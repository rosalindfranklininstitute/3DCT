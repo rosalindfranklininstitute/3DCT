{
    "cells": [
        {
            "cell_type": "code",
            "execution_count": 3,
            "source": [
                "import numpy as np\r\n",
                "import tifffile"
            ],
            "outputs": [],
            "metadata": {}
        },
        {
            "cell_type": "code",
            "execution_count": 4,
            "source": [
                "import napari"
            ],
            "outputs": [],
            "metadata": {}
        },
        {
            "cell_type": "markdown",
            "source": [
                "Generate data with small beads and Poisson noise"
            ],
            "metadata": {}
        },
        {
            "cell_type": "code",
            "execution_count": 5,
            "source": [
                "#Create a 2d array to do FFT\r\n",
                "ashape = (160,160,160)\r\n",
                "a = np.zeros(ashape, dtype=float)\r\n",
                "#a = np.random.poisson(256 , size=(size0,size0,size0)).astype(np.float32)/2000\r\n",
                "\r\n",
                "#Add a few cubes in grid-like locations\r\n",
                "cubesize=2\r\n",
                "cubespacing=67\r\n",
                "for iz in range(5,ashape[0],cubespacing):\r\n",
                "    for iy in range(5,ashape[1],cubespacing):\r\n",
                "        for ix in range(5,ashape[2],cubespacing):\r\n",
                "            a[iz:iz+cubesize , iy:iy+cubesize , ix:ix+cubesize] = np.ones((cubesize,cubesize,cubesize))\r\n"
            ],
            "outputs": [],
            "metadata": {}
        },
        {
            "cell_type": "code",
            "execution_count": 6,
            "source": [
                "nview_data  = napari.view_image(a, ndisplay=3)\r\n",
                "#OK"
            ],
            "outputs": [],
            "metadata": {}
        },
        {
            "cell_type": "code",
            "execution_count": 5,
            "source": [
                "#Optionally save the data\r\n",
                "tifffile.imsave('gendata1_raw.tif', a)"
            ],
            "outputs": [],
            "metadata": {}
        },
        {
            "cell_type": "markdown",
            "source": [
                "## Convolve data with the experimental 'Rosalind' Psf.\r\n",
                "\r\n",
                "Read data first"
            ],
            "metadata": {}
        },
        {
            "cell_type": "code",
            "execution_count": 7,
            "source": [
                "psfdata=tifffile.imread('PSF_Rosalind_Casper_8bit.tif')"
            ],
            "outputs": [],
            "metadata": {}
        },
        {
            "cell_type": "code",
            "execution_count": 8,
            "source": [
                "type(psfdata)"
            ],
            "outputs": [
                {
                    "output_type": "execute_result",
                    "data": {
                        "text/plain": [
                            "numpy.ndarray"
                        ]
                    },
                    "metadata": {},
                    "execution_count": 8
                }
            ],
            "metadata": {}
        },
        {
            "cell_type": "code",
            "execution_count": 9,
            "source": [
                "psfdata.dtype"
            ],
            "outputs": [
                {
                    "output_type": "execute_result",
                    "data": {
                        "text/plain": [
                            "dtype('uint8')"
                        ]
                    },
                    "metadata": {},
                    "execution_count": 9
                }
            ],
            "metadata": {}
        },
        {
            "cell_type": "code",
            "execution_count": 10,
            "source": [
                "psfdata.shape"
            ],
            "outputs": [
                {
                    "output_type": "execute_result",
                    "data": {
                        "text/plain": [
                            "(61, 32, 32)"
                        ]
                    },
                    "metadata": {},
                    "execution_count": 10
                }
            ],
            "metadata": {}
        },
        {
            "cell_type": "code",
            "execution_count": 11,
            "source": [
                "psfdata_norm = (psfdata.astype(float) - psfdata.min() ) / (psfdata.max() - psfdata.min())"
            ],
            "outputs": [],
            "metadata": {}
        },
        {
            "cell_type": "code",
            "execution_count": 12,
            "source": [
                "nview_psf = napari.view_image(psfdata_norm, ndisplay=3)"
            ],
            "outputs": [],
            "metadata": {}
        },
        {
            "cell_type": "markdown",
            "source": [
                "## Convolve"
            ],
            "metadata": {}
        },
        {
            "cell_type": "code",
            "execution_count": 13,
            "source": [
                "import scipy.signal"
            ],
            "outputs": [],
            "metadata": {}
        },
        {
            "cell_type": "code",
            "execution_count": 14,
            "source": [
                "data_convolved = scipy.signal.convolve(a, psfdata_norm, mode='same')"
            ],
            "outputs": [],
            "metadata": {}
        },
        {
            "cell_type": "code",
            "execution_count": 15,
            "source": [
                "data_convolved.shape"
            ],
            "outputs": [
                {
                    "output_type": "execute_result",
                    "data": {
                        "text/plain": [
                            "(160, 160, 160)"
                        ]
                    },
                    "metadata": {},
                    "execution_count": 15
                }
            ],
            "metadata": {}
        },
        {
            "cell_type": "code",
            "execution_count": 28,
            "source": [
                "data_convolved = (data_convolved - data_convolved.min()) / (data_convolved.max() - data_convolved.min())*255"
            ],
            "outputs": [],
            "metadata": {}
        },
        {
            "cell_type": "code",
            "execution_count": 29,
            "source": [
                "print(data_convolved.max())\r\n",
                "print(data_convolved.min())"
            ],
            "outputs": [
                {
                    "output_type": "stream",
                    "name": "stdout",
                    "text": [
                        "255.0\n",
                        "0.0\n"
                    ]
                }
            ],
            "metadata": {}
        },
        {
            "cell_type": "code",
            "execution_count": 36,
            "source": [
                "nview_dataconv = napari.view_image(data_convolved,ndisplay=3)"
            ],
            "outputs": [],
            "metadata": {}
        },
        {
            "cell_type": "markdown",
            "source": [
                "## Add Poisson noise"
            ],
            "metadata": {}
        },
        {
            "cell_type": "code",
            "execution_count": 30,
            "source": [
                "#data_convolved_noised = data_convolved + np.random.poisson(256 , size=ashape).astype(np.float32)/80\r\n",
                "#This method of adding does not look right. The original intensity should be the lambda poisson parameter in the function"
            ],
            "outputs": [],
            "metadata": {}
        },
        {
            "cell_type": "code",
            "execution_count": 31,
            "source": [
                "rng = np.random.default_rng()"
            ],
            "outputs": [],
            "metadata": {}
        },
        {
            "cell_type": "code",
            "execution_count": 34,
            "source": [
                "data_convolved_noised = rng.poisson(lam = data_convolved)"
            ],
            "outputs": [],
            "metadata": {}
        },
        {
            "cell_type": "code",
            "execution_count": 35,
            "source": [
                "nview_data_noised = napari.view_image(data_convolved_noised,ndisplay=3)"
            ],
            "outputs": [],
            "metadata": {}
        },
        {
            "cell_type": "code",
            "execution_count": 41,
            "source": [
                "data_convolved_noised_uint8 = ((data_convolved_noised - data_convolved_noised.min()) / ( data_convolved_noised.max() - data_convolved_noised.min() ) *255 ).astype(np.uint8)"
            ],
            "outputs": [],
            "metadata": {}
        },
        {
            "cell_type": "code",
            "execution_count": 43,
            "source": [
                "tifffile.imsave('gendata_psfconv_poiss.tif', data_convolved_noised_uint8)"
            ],
            "outputs": [],
            "metadata": {}
        },
        {
            "cell_type": "code",
            "execution_count": null,
            "source": [],
            "outputs": [],
            "metadata": {}
        },
        {
            "cell_type": "markdown",
            "source": [
                "# Create large data"
            ],
            "metadata": {}
        },
        {
            "cell_type": "code",
            "execution_count": 44,
            "source": [
                "import numpy as np\r\n",
                "import tifffile\r\n",
                "import napari\r\n",
                "import scipy.signal"
            ],
            "outputs": [],
            "metadata": {}
        },
        {
            "cell_type": "code",
            "execution_count": 45,
            "source": [
                "#Create a 2d array to do FFT\r\n",
                "ashape = (51,2048,2048) # Jeonyoon Choi\r\n",
                "a = np.zeros(ashape, dtype=float)\r\n",
                "#a = np.random.poisson(256 , size=(size0,size0,size0)).astype(np.float32)/2000\r\n",
                "\r\n",
                "#Add a few cubes in grid-like locations\r\n",
                "cubesize=2\r\n",
                "cubespacing=67\r\n",
                "for iz in range(5,ashape[0],cubespacing):\r\n",
                "    for iy in range(5,ashape[1],cubespacing):\r\n",
                "        for ix in range(5,ashape[2],cubespacing):\r\n",
                "            a[iz:iz+cubesize , iy:iy+cubesize , ix:ix+cubesize] = np.ones((cubesize,cubesize,cubesize))\r\n",
                "\r\n",
                "#Read psf\r\n",
                "psfdata=tifffile.imread('PSF_Rosalind_Casper_8bit.tif')\r\n",
                "psfdata_norm = (psfdata.astype(float) - psfdata.min() ) / (psfdata.max() - psfdata.min())\r\n",
                "\r\n",
                "#Convolve\r\n",
                "data_convolved = scipy.signal.convolve(a, psfdata_norm, mode='same')\r\n",
                "\r\n",
                "#Adjust max/min and intensity\r\n",
                "data_convolved = (data_convolved - data_convolved.min()) / (data_convolved.max() - data_convolved.min())*255\r\n",
                "\r\n",
                "#Noisify with Poisson\r\n",
                "rng = np.random.default_rng()\r\n",
                "data_convolved_noised = rng.poisson(lam = data_convolved)\r\n",
                "data_convolved_noised_uint8 = ((data_convolved_noised - data_convolved_noised.min()) / ( data_convolved_noised.max() - data_convolved_noised.min() ) *255 ).astype(np.uint8)\r\n"
            ],
            "outputs": [],
            "metadata": {}
        },
        {
            "cell_type": "code",
            "execution_count": 46,
            "source": [
                "nview_data_noised = napari.view_image(data_convolved_noised_uint8,ndisplay=3)"
            ],
            "outputs": [],
            "metadata": {}
        },
        {
            "cell_type": "code",
            "execution_count": 47,
            "source": [
                "tifffile.imsave('gendata_psfconv_poiss_large.tif', data_convolved_noised_uint8)"
            ],
            "outputs": [],
            "metadata": {}
        },
        {
            "cell_type": "code",
            "execution_count": null,
            "source": [],
            "outputs": [],
            "metadata": {}
        }
    ],
    "metadata": {
        "orig_nbformat": 4,
        "language_info": {
            "name": "python",
            "version": "3.9.7",
            "mimetype": "text/x-python",
            "codemirror_mode": {
                "name": "ipython",
                "version": 3
            },
            "pygments_lexer": "ipython3",
            "nbconvert_exporter": "python",
            "file_extension": ".py"
        },
        "kernelspec": {
            "name": "python3",
            "display_name": "Python 3.9.7 64-bit ('dev': conda)"
        },
        "interpreter": {
            "hash": "26390a0e2703033eec38aa0cd5af7c99aba13c30936a1764793c8a6d6d73f322"
        }
    },
    "nbformat": 4,
    "nbformat_minor": 2
}